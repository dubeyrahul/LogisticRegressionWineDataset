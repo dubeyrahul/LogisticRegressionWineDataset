{
 "cells": [
  {
   "cell_type": "markdown",
   "metadata": {},
   "source": [
    "## Unconstrained optimization using Cyclic co-ordinate descent on Logistic Loss function to perform Multinomial classification"
   ]
  },
  {
   "cell_type": "markdown",
   "metadata": {},
   "source": [
    "### Import statements"
   ]
  },
  {
   "cell_type": "code",
   "execution_count": null,
   "metadata": {
    "collapsed": true
   },
   "outputs": [],
   "source": [
    "from sklearn.preprocessing import normalize\n",
    "import numpy as np\n",
    "import pandas as pd\n",
    "from sklearn import preprocessing\n",
    "from sklearn.metrics import accuracy_score"
   ]
  },
  {
   "cell_type": "markdown",
   "metadata": {},
   "source": [
    "### Loading dataset into dataframes"
   ]
  },
  {
   "cell_type": "code",
   "execution_count": null,
   "metadata": {
    "collapsed": false
   },
   "outputs": [],
   "source": [
    "data = pd.read_csv('wine.data', header = None)\n",
    "num_features = data.shape[1]-1\n",
    "num_examples = data.shape[0]\n",
    "print \"Number of features: \",num_features\n",
    "print \"Number of examples: \",num_examples\n",
    "data.head()"
   ]
  },
  {
   "cell_type": "markdown",
   "metadata": {},
   "source": [
    "### Separating class labels"
   ]
  },
  {
   "cell_type": "code",
   "execution_count": null,
   "metadata": {
    "collapsed": false
   },
   "outputs": [],
   "source": [
    "Y = data[0]\n",
    "print Y.shape\n",
    "Y.head()"
   ]
  },
  {
   "cell_type": "markdown",
   "metadata": {},
   "source": [
    "### Separating features, adding offset, and scaling the features"
   ]
  },
  {
   "cell_type": "code",
   "execution_count": null,
   "metadata": {
    "collapsed": true
   },
   "outputs": [],
   "source": [
    "X = data[range(1,num_features+1)]\n",
    "offset = np.empty(178)\n",
    "offset.fill(1)\n",
    "X = preprocessing.scale(X)\n",
    "X = pd.DataFrame(X)\n",
    "X[14] = pd.Series(offset)"
   ]
  },
  {
   "cell_type": "markdown",
   "metadata": {},
   "source": [
    "### Perform train test split of the data"
   ]
  },
  {
   "cell_type": "code",
   "execution_count": null,
   "metadata": {
    "collapsed": false
   },
   "outputs": [],
   "source": [
    "from sklearn.model_selection import train_test_split\n",
    "X_train, X_test, Y_train, Y_test = train_test_split(\n",
    "                                    X, Y, train_size = 128, random_state=42)\n",
    "num_train_examples = X_train.shape[0]\n",
    "print \"Number of training examples: \", num_train_examples\n",
    "num_test_examples = X_test.shape[0]\n",
    "print \"Number of test examples: \", num_test_examples\n",
    "print X_train.shape\n",
    "print Y_train.shape"
   ]
  },
  {
   "cell_type": "code",
   "execution_count": null,
   "metadata": {
    "collapsed": true
   },
   "outputs": [],
   "source": [
    "X_train_matrix = X_train.as_matrix()\n",
    "Y_train_matrix = Y_train.as_matrix()\n",
    "X_test_matrix = X_test.as_matrix()\n",
    "Y_test_matrix = Y_test.as_matrix()"
   ]
  },
  {
   "cell_type": "markdown",
   "metadata": {},
   "source": [
    "### Define an indicator array that stores I(Y(i), j)"
   ]
  },
  {
   "cell_type": "code",
   "execution_count": null,
   "metadata": {
    "collapsed": true
   },
   "outputs": [],
   "source": [
    "indicator=np.zeros((128,3))\n",
    "for i in range(128):\n",
    "        indicator[i][Y_train_matrix[i]-1]=1"
   ]
  },
  {
   "cell_type": "markdown",
   "metadata": {},
   "source": [
    "### Function to calculate probability in the logistic loss function"
   ]
  },
  {
   "cell_type": "code",
   "execution_count": null,
   "metadata": {
    "collapsed": true
   },
   "outputs": [],
   "source": [
    "def dot_product(X,w):\n",
    "    product = np.matrix(X)*np.matrix(w).T\n",
    "    exponent = np.exp(product);\n",
    "    normed_matrix = normalize(exponent, axis=1, norm='l1')\n",
    "    return normed_matrix"
   ]
  },
  {
   "cell_type": "markdown",
   "metadata": {},
   "source": [
    "### Initializing all zero vector for w"
   ]
  },
  {
   "cell_type": "code",
   "execution_count": null,
   "metadata": {
    "collapsed": false
   },
   "outputs": [],
   "source": [
    "w = np.zeros([3,14])\n",
    "predict = np.matrix(X_test_matrix)*np.matrix(w).T\n",
    "predict = np.array(predict)\n",
    "Y_test_pred =predict.argmax(axis=1)+1\n",
    "acc_array = []\n",
    "acc_array.append(accuracy_score(Y_test_matrix,Y_test_pred))\n",
    "print acc_array"
   ]
  },
  {
   "cell_type": "markdown",
   "metadata": {},
   "source": [
    "### Cyclic co-ordinate descent algorithm"
   ]
  },
  {
   "cell_type": "code",
   "execution_count": null,
   "metadata": {
    "collapsed": true
   },
   "outputs": [],
   "source": [
    "from sklearn.metrics import log_loss\n",
    "logLoss=[]\n",
    "\n",
    "for i in range(10000):\n",
    "    for j in range(3):\n",
    "        for k in range(14):\n",
    "            gradient = np.matrix(X_train_matrix).T[k]*\\\n",
    "                       np.matrix(indicator-dot_product(X_train_matrix,w))\n",
    "            gradient = np.array(gradient)\n",
    "            w[j][k]=w[j][k]+0.01*gradient[0][j]\n",
    "    if i%100==0:\n",
    "        predict_prob = dot_product(X_train_matrix,w)\n",
    "        l = log_loss(Y_train_matrix,predict_prob)\n",
    "        predict = np.matrix(X_test_matrix)*np.matrix(w).T\n",
    "        predict = np.array(predict)\n",
    "        Y_test_pred =predict.argmax(axis=1)+1\n",
    "        acc_array.append(accuracy_score(Y_test_matrix,Y_test_pred))\n",
    "        logLoss.append(l)"
   ]
  },
  {
   "cell_type": "code",
   "execution_count": null,
   "metadata": {
    "collapsed": false
   },
   "outputs": [],
   "source": [
    "print \"Final weight vector:\"\n",
    "print w"
   ]
  },
  {
   "cell_type": "markdown",
   "metadata": {},
   "source": [
    "### Computing minimized logistic loss value"
   ]
  },
  {
   "cell_type": "code",
   "execution_count": null,
   "metadata": {
    "collapsed": false
   },
   "outputs": [],
   "source": [
    "from sklearn.metrics import log_loss\n",
    "predict_prob=dot_product(X_train_matrix,w)\n",
    "print \"Final logistic loss: \",log_loss(Y_train_matrix,predict_prob)"
   ]
  },
  {
   "cell_type": "markdown",
   "metadata": {},
   "source": [
    "### Perform classification using the final weight vector"
   ]
  },
  {
   "cell_type": "code",
   "execution_count": null,
   "metadata": {
    "collapsed": false
   },
   "outputs": [],
   "source": [
    "predict = np.matrix(X_test_matrix)*np.matrix(w).T\n",
    "predict = np.array(predict)\n",
    "Y_test_pred =predict.argmax(axis=1)+1\n",
    "from sklearn.metrics import accuracy_score\n",
    "print accuracy_score(Y_test_matrix,Y_test_pred)"
   ]
  }
 ],
 "metadata": {
  "kernelspec": {
   "display_name": "Python 2",
   "language": "python",
   "name": "python2"
  },
  "language_info": {
   "codemirror_mode": {
    "name": "ipython",
    "version": 2.0
   },
   "file_extension": ".py",
   "mimetype": "text/x-python",
   "name": "python",
   "nbconvert_exporter": "python",
   "pygments_lexer": "ipython2",
   "version": "2.7.11"
  }
 },
 "nbformat": 4,
 "nbformat_minor": 0
}